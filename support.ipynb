{
  "nbformat": 4,
  "nbformat_minor": 0,
  "metadata": {
    "colab": {
      "provenance": [],
      "authorship_tag": "ABX9TyOFIhS68XYE+OmRrTbH6BYd",
      "include_colab_link": true
    },
    "kernelspec": {
      "name": "python3",
      "display_name": "Python 3"
    },
    "language_info": {
      "name": "python"
    }
  },
  "cells": [
    {
      "cell_type": "markdown",
      "metadata": {
        "id": "view-in-github",
        "colab_type": "text"
      },
      "source": [
        "<a href=\"https://colab.research.google.com/github/sanjibsinha/Machine-Learning-Primer/blob/inter/support.ipynb\" target=\"_parent\"><img src=\"https://colab.research.google.com/assets/colab-badge.svg\" alt=\"Open In Colab\"/></a>"
      ]
    },
    {
      "cell_type": "code",
      "execution_count": null,
      "metadata": {
        "id": "_lNpyhcHG7PX"
      },
      "outputs": [],
      "source": []
    },
    {
      "cell_type": "markdown",
      "source": [
        "\n",
        "Thank you for your support\n",
        "\n",
        "In a short period of time the way you have lent your hands to support me makes me humbled. Thank you for your support.\n",
        "\n",
        "A few days back in my SUPPORT page I have written as follows. \n",
        "\n",
        "I need your support so that I might pursue writing blogs on different topics, creating videos, and moreover, spend everyday with my stories and characters.\n",
        "\n",
        "However, you need a minimum financial support to do that. \n",
        "\n",
        "When you are hungry, you cannot write. Right? \n",
        "\n",
        "Therefore, you can make your own choice. \n",
        "\n",
        "Without spending a lot of money, you can subscribe to my YouTube channel. It’s free. \n",
        "\n",
        "You can share with your friends and that’s also free. Oops! \n",
        "\n",
        "You can buy my books at Leanpub. Or, buy them at Amazon.\n",
        "\n",
        "It’s not necessary that you have to read them, you don’t even have to look at them. Just throw them away after buying. However, that would mean \n",
        "that you have supported me. Am I right?\n",
        "\n",
        "Finally, you can send me any amount of money through my PayPal link. That’s secure. PayPal will handle everything. You don’t have to worry about that. It can start from 1 dollar to a billion dollars. \n",
        "\n",
        "I think 1 dollar is okay. 😀 I cannot handle a billion dollars. 😂\n",
        "\n",
        "Now it’s up to you, my dear friend.\n",
        "\n",
        "And you have responded. I am overwhelmed. Again thank you for your support.\n",
        "\n",
        "Support through PayPal - [https://paypal.me/sanjib12sinha?country.x=IN&locale.x=en_GB](https://paypal.me/sanjib12sinha?country.x=IN&locale.x=en_GB)\n",
        "\n",
        "Amazon Kindle - [https://www.amazon.com/dp/B0BTDRPPK3](https://www.amazon.com/dp/B0BTDRPPK3)\n",
        "\n",
        "Amazon Paperback - [https://www.amazon.in/dp/B0BT8FKJ49?ref_=cm_sw_r_tw_ud_dp_KM0ECX0VWPSAQ7WKHEJJ](https://www.amazon.in/dp/B0BT8FKJ49?ref_=cm_sw_r_tw_ud_dp_KM0ECX0VWPSAQ7WKHEJJ)\n",
        "\n",
        "Leanpub Ebook - [https://leanpub.com/age_verification?redirect=%2Fmydirtylittlesecrets](https://leanpub.com/age_verification?redirect=%2Fmydirtylittlesecrets)"
      ],
      "metadata": {
        "id": "--Z84EiVG8AN"
      }
    }
  ]
}