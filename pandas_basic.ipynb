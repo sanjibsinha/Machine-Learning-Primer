{
  "nbformat": 4,
  "nbformat_minor": 0,
  "metadata": {
    "colab": {
      "provenance": [],
      "authorship_tag": "ABX9TyNOe/hbCcHJoDr3tvQXyq0w",
      "include_colab_link": true
    },
    "kernelspec": {
      "name": "python3",
      "display_name": "Python 3"
    },
    "language_info": {
      "name": "python"
    }
  },
  "cells": [
    {
      "cell_type": "markdown",
      "metadata": {
        "id": "view-in-github",
        "colab_type": "text"
      },
      "source": [
        "<a href=\"https://colab.research.google.com/github/sanjibsinha/Machine-Learning-Primer/blob/inter/pandas_basic.ipynb\" target=\"_parent\"><img src=\"https://colab.research.google.com/assets/colab-badge.svg\" alt=\"Open In Colab\"/></a>"
      ]
    },
    {
      "cell_type": "code",
      "execution_count": 2,
      "metadata": {
        "colab": {
          "base_uri": "https://localhost:8080/",
          "height": 479
        },
        "id": "gw_BRslqhv4q",
        "outputId": "76cfa7c7-e0e7-4726-f453-05f03f0fa36d"
      },
      "outputs": [
        {
          "output_type": "stream",
          "name": "stderr",
          "text": [
            "/usr/local/lib/python3.8/dist-packages/IPython/core/interactiveshell.py:3326: DtypeWarning: Columns (5,6) have mixed types.Specify dtype option on import or set low_memory=False.\n",
            "  exec(code_obj, self.user_global_ns, self.user_ns)\n"
          ]
        },
        {
          "output_type": "execute_result",
          "data": {
            "text/plain": [
              "   index       Entity Code  Year Schizophrenia (%) Bipolar disorder (%)  \\\n",
              "0      0  Afghanistan  AFG  1990           0.16056             0.697779   \n",
              "1      1  Afghanistan  AFG  1991          0.160312             0.697961   \n",
              "2      2  Afghanistan  AFG  1992          0.160135             0.698107   \n",
              "3      3  Afghanistan  AFG  1993          0.160037             0.698257   \n",
              "4      4  Afghanistan  AFG  1994          0.160022             0.698469   \n",
              "5      5  Afghanistan  AFG  1995          0.160076             0.698695   \n",
              "6      6  Afghanistan  AFG  1996          0.160249             0.698914   \n",
              "7      7  Afghanistan  AFG  1997          0.160554             0.699127   \n",
              "8      8  Afghanistan  AFG  1998          0.160931             0.699372   \n",
              "9      9  Afghanistan  AFG  1999          0.161311             0.699674   \n",
              "\n",
              "  Eating disorders (%)  Anxiety disorders (%)  Drug use disorders (%)  \\\n",
              "0             0.101855               4.828830                1.677082   \n",
              "1             0.099313               4.829740                1.684746   \n",
              "2             0.096692               4.831108                1.694334   \n",
              "3             0.094336               4.830864                1.705320   \n",
              "4             0.092439               4.829423                1.716069   \n",
              "5              0.09098               4.828337                1.728112   \n",
              "6             0.089709               4.828083                1.737643   \n",
              "7             0.088372               4.827726                1.746891   \n",
              "8              0.08733               4.826971                1.756963   \n",
              "9             0.086267               4.826413                1.770791   \n",
              "\n",
              "   Depression (%)  Alcohol use disorders (%)  \n",
              "0        4.071831                   0.672404  \n",
              "1        4.079531                   0.671768  \n",
              "2        4.088358                   0.670644  \n",
              "3        4.096190                   0.669738  \n",
              "4        4.099582                   0.669260  \n",
              "5        4.104207                   0.668746  \n",
              "6        4.107500                   0.667727  \n",
              "7        4.110834                   0.666220  \n",
              "8        4.114438                   0.664676  \n",
              "9        4.117633                   0.663428  "
            ],
            "text/html": [
              "\n",
              "  <div id=\"df-abe187bb-22e9-4153-bd83-6f0b93964a80\">\n",
              "    <div class=\"colab-df-container\">\n",
              "      <div>\n",
              "<style scoped>\n",
              "    .dataframe tbody tr th:only-of-type {\n",
              "        vertical-align: middle;\n",
              "    }\n",
              "\n",
              "    .dataframe tbody tr th {\n",
              "        vertical-align: top;\n",
              "    }\n",
              "\n",
              "    .dataframe thead th {\n",
              "        text-align: right;\n",
              "    }\n",
              "</style>\n",
              "<table border=\"1\" class=\"dataframe\">\n",
              "  <thead>\n",
              "    <tr style=\"text-align: right;\">\n",
              "      <th></th>\n",
              "      <th>index</th>\n",
              "      <th>Entity</th>\n",
              "      <th>Code</th>\n",
              "      <th>Year</th>\n",
              "      <th>Schizophrenia (%)</th>\n",
              "      <th>Bipolar disorder (%)</th>\n",
              "      <th>Eating disorders (%)</th>\n",
              "      <th>Anxiety disorders (%)</th>\n",
              "      <th>Drug use disorders (%)</th>\n",
              "      <th>Depression (%)</th>\n",
              "      <th>Alcohol use disorders (%)</th>\n",
              "    </tr>\n",
              "  </thead>\n",
              "  <tbody>\n",
              "    <tr>\n",
              "      <th>0</th>\n",
              "      <td>0</td>\n",
              "      <td>Afghanistan</td>\n",
              "      <td>AFG</td>\n",
              "      <td>1990</td>\n",
              "      <td>0.16056</td>\n",
              "      <td>0.697779</td>\n",
              "      <td>0.101855</td>\n",
              "      <td>4.828830</td>\n",
              "      <td>1.677082</td>\n",
              "      <td>4.071831</td>\n",
              "      <td>0.672404</td>\n",
              "    </tr>\n",
              "    <tr>\n",
              "      <th>1</th>\n",
              "      <td>1</td>\n",
              "      <td>Afghanistan</td>\n",
              "      <td>AFG</td>\n",
              "      <td>1991</td>\n",
              "      <td>0.160312</td>\n",
              "      <td>0.697961</td>\n",
              "      <td>0.099313</td>\n",
              "      <td>4.829740</td>\n",
              "      <td>1.684746</td>\n",
              "      <td>4.079531</td>\n",
              "      <td>0.671768</td>\n",
              "    </tr>\n",
              "    <tr>\n",
              "      <th>2</th>\n",
              "      <td>2</td>\n",
              "      <td>Afghanistan</td>\n",
              "      <td>AFG</td>\n",
              "      <td>1992</td>\n",
              "      <td>0.160135</td>\n",
              "      <td>0.698107</td>\n",
              "      <td>0.096692</td>\n",
              "      <td>4.831108</td>\n",
              "      <td>1.694334</td>\n",
              "      <td>4.088358</td>\n",
              "      <td>0.670644</td>\n",
              "    </tr>\n",
              "    <tr>\n",
              "      <th>3</th>\n",
              "      <td>3</td>\n",
              "      <td>Afghanistan</td>\n",
              "      <td>AFG</td>\n",
              "      <td>1993</td>\n",
              "      <td>0.160037</td>\n",
              "      <td>0.698257</td>\n",
              "      <td>0.094336</td>\n",
              "      <td>4.830864</td>\n",
              "      <td>1.705320</td>\n",
              "      <td>4.096190</td>\n",
              "      <td>0.669738</td>\n",
              "    </tr>\n",
              "    <tr>\n",
              "      <th>4</th>\n",
              "      <td>4</td>\n",
              "      <td>Afghanistan</td>\n",
              "      <td>AFG</td>\n",
              "      <td>1994</td>\n",
              "      <td>0.160022</td>\n",
              "      <td>0.698469</td>\n",
              "      <td>0.092439</td>\n",
              "      <td>4.829423</td>\n",
              "      <td>1.716069</td>\n",
              "      <td>4.099582</td>\n",
              "      <td>0.669260</td>\n",
              "    </tr>\n",
              "    <tr>\n",
              "      <th>5</th>\n",
              "      <td>5</td>\n",
              "      <td>Afghanistan</td>\n",
              "      <td>AFG</td>\n",
              "      <td>1995</td>\n",
              "      <td>0.160076</td>\n",
              "      <td>0.698695</td>\n",
              "      <td>0.09098</td>\n",
              "      <td>4.828337</td>\n",
              "      <td>1.728112</td>\n",
              "      <td>4.104207</td>\n",
              "      <td>0.668746</td>\n",
              "    </tr>\n",
              "    <tr>\n",
              "      <th>6</th>\n",
              "      <td>6</td>\n",
              "      <td>Afghanistan</td>\n",
              "      <td>AFG</td>\n",
              "      <td>1996</td>\n",
              "      <td>0.160249</td>\n",
              "      <td>0.698914</td>\n",
              "      <td>0.089709</td>\n",
              "      <td>4.828083</td>\n",
              "      <td>1.737643</td>\n",
              "      <td>4.107500</td>\n",
              "      <td>0.667727</td>\n",
              "    </tr>\n",
              "    <tr>\n",
              "      <th>7</th>\n",
              "      <td>7</td>\n",
              "      <td>Afghanistan</td>\n",
              "      <td>AFG</td>\n",
              "      <td>1997</td>\n",
              "      <td>0.160554</td>\n",
              "      <td>0.699127</td>\n",
              "      <td>0.088372</td>\n",
              "      <td>4.827726</td>\n",
              "      <td>1.746891</td>\n",
              "      <td>4.110834</td>\n",
              "      <td>0.666220</td>\n",
              "    </tr>\n",
              "    <tr>\n",
              "      <th>8</th>\n",
              "      <td>8</td>\n",
              "      <td>Afghanistan</td>\n",
              "      <td>AFG</td>\n",
              "      <td>1998</td>\n",
              "      <td>0.160931</td>\n",
              "      <td>0.699372</td>\n",
              "      <td>0.08733</td>\n",
              "      <td>4.826971</td>\n",
              "      <td>1.756963</td>\n",
              "      <td>4.114438</td>\n",
              "      <td>0.664676</td>\n",
              "    </tr>\n",
              "    <tr>\n",
              "      <th>9</th>\n",
              "      <td>9</td>\n",
              "      <td>Afghanistan</td>\n",
              "      <td>AFG</td>\n",
              "      <td>1999</td>\n",
              "      <td>0.161311</td>\n",
              "      <td>0.699674</td>\n",
              "      <td>0.086267</td>\n",
              "      <td>4.826413</td>\n",
              "      <td>1.770791</td>\n",
              "      <td>4.117633</td>\n",
              "      <td>0.663428</td>\n",
              "    </tr>\n",
              "  </tbody>\n",
              "</table>\n",
              "</div>\n",
              "      <button class=\"colab-df-convert\" onclick=\"convertToInteractive('df-abe187bb-22e9-4153-bd83-6f0b93964a80')\"\n",
              "              title=\"Convert this dataframe to an interactive table.\"\n",
              "              style=\"display:none;\">\n",
              "        \n",
              "  <svg xmlns=\"http://www.w3.org/2000/svg\" height=\"24px\"viewBox=\"0 0 24 24\"\n",
              "       width=\"24px\">\n",
              "    <path d=\"M0 0h24v24H0V0z\" fill=\"none\"/>\n",
              "    <path d=\"M18.56 5.44l.94 2.06.94-2.06 2.06-.94-2.06-.94-.94-2.06-.94 2.06-2.06.94zm-11 1L8.5 8.5l.94-2.06 2.06-.94-2.06-.94L8.5 2.5l-.94 2.06-2.06.94zm10 10l.94 2.06.94-2.06 2.06-.94-2.06-.94-.94-2.06-.94 2.06-2.06.94z\"/><path d=\"M17.41 7.96l-1.37-1.37c-.4-.4-.92-.59-1.43-.59-.52 0-1.04.2-1.43.59L10.3 9.45l-7.72 7.72c-.78.78-.78 2.05 0 2.83L4 21.41c.39.39.9.59 1.41.59.51 0 1.02-.2 1.41-.59l7.78-7.78 2.81-2.81c.8-.78.8-2.07 0-2.86zM5.41 20L4 18.59l7.72-7.72 1.47 1.35L5.41 20z\"/>\n",
              "  </svg>\n",
              "      </button>\n",
              "      \n",
              "  <style>\n",
              "    .colab-df-container {\n",
              "      display:flex;\n",
              "      flex-wrap:wrap;\n",
              "      gap: 12px;\n",
              "    }\n",
              "\n",
              "    .colab-df-convert {\n",
              "      background-color: #E8F0FE;\n",
              "      border: none;\n",
              "      border-radius: 50%;\n",
              "      cursor: pointer;\n",
              "      display: none;\n",
              "      fill: #1967D2;\n",
              "      height: 32px;\n",
              "      padding: 0 0 0 0;\n",
              "      width: 32px;\n",
              "    }\n",
              "\n",
              "    .colab-df-convert:hover {\n",
              "      background-color: #E2EBFA;\n",
              "      box-shadow: 0px 1px 2px rgba(60, 64, 67, 0.3), 0px 1px 3px 1px rgba(60, 64, 67, 0.15);\n",
              "      fill: #174EA6;\n",
              "    }\n",
              "\n",
              "    [theme=dark] .colab-df-convert {\n",
              "      background-color: #3B4455;\n",
              "      fill: #D2E3FC;\n",
              "    }\n",
              "\n",
              "    [theme=dark] .colab-df-convert:hover {\n",
              "      background-color: #434B5C;\n",
              "      box-shadow: 0px 1px 3px 1px rgba(0, 0, 0, 0.15);\n",
              "      filter: drop-shadow(0px 1px 2px rgba(0, 0, 0, 0.3));\n",
              "      fill: #FFFFFF;\n",
              "    }\n",
              "  </style>\n",
              "\n",
              "      <script>\n",
              "        const buttonEl =\n",
              "          document.querySelector('#df-abe187bb-22e9-4153-bd83-6f0b93964a80 button.colab-df-convert');\n",
              "        buttonEl.style.display =\n",
              "          google.colab.kernel.accessAllowed ? 'block' : 'none';\n",
              "\n",
              "        async function convertToInteractive(key) {\n",
              "          const element = document.querySelector('#df-abe187bb-22e9-4153-bd83-6f0b93964a80');\n",
              "          const dataTable =\n",
              "            await google.colab.kernel.invokeFunction('convertToInteractive',\n",
              "                                                     [key], {});\n",
              "          if (!dataTable) return;\n",
              "\n",
              "          const docLinkHtml = 'Like what you see? Visit the ' +\n",
              "            '<a target=\"_blank\" href=https://colab.research.google.com/notebooks/data_table.ipynb>data table notebook</a>'\n",
              "            + ' to learn more about interactive tables.';\n",
              "          element.innerHTML = '';\n",
              "          dataTable['output_type'] = 'display_data';\n",
              "          await google.colab.output.renderOutput(dataTable, element);\n",
              "          const docLink = document.createElement('div');\n",
              "          docLink.innerHTML = docLinkHtml;\n",
              "          element.appendChild(docLink);\n",
              "        }\n",
              "      </script>\n",
              "    </div>\n",
              "  </div>\n",
              "  "
            ]
          },
          "metadata": {},
          "execution_count": 2
        }
      ],
      "source": [
        "import pandas as pd\n",
        "df = pd.read_csv('https://raw.githubusercontent.com/sanjibsinha/Machine-Learning-Primer/main/Mental%20health%20Depression%20disorder%20Data.csv')\n",
        "df.head(10)"
      ]
    },
    {
      "cell_type": "code",
      "source": [
        "df.columns"
      ],
      "metadata": {
        "colab": {
          "base_uri": "https://localhost:8080/"
        },
        "id": "CkKXm7OMmF7w",
        "outputId": "7c1b7242-cb6d-43a5-ee51-8290d2ecddc2"
      },
      "execution_count": 4,
      "outputs": [
        {
          "output_type": "execute_result",
          "data": {
            "text/plain": [
              "Index(['index', 'Entity', 'Code', 'Year', 'Schizophrenia (%)',\n",
              "       'Bipolar disorder (%)', 'Eating disorders (%)', 'Anxiety disorders (%)',\n",
              "       'Drug use disorders (%)', 'Depression (%)',\n",
              "       'Alcohol use disorders (%)'],\n",
              "      dtype='object')"
            ]
          },
          "metadata": {},
          "execution_count": 4
        }
      ]
    },
    {
      "cell_type": "code",
      "source": [
        "df.shape\n"
      ],
      "metadata": {
        "colab": {
          "base_uri": "https://localhost:8080/"
        },
        "id": "yIHOQhxCmknv",
        "outputId": "13c76750-2870-4684-a15b-fa9d91acdbfa"
      },
      "execution_count": 5,
      "outputs": [
        {
          "output_type": "execute_result",
          "data": {
            "text/plain": [
              "(108553, 11)"
            ]
          },
          "metadata": {},
          "execution_count": 5
        }
      ]
    },
    {
      "cell_type": "code",
      "source": [
        "df.size"
      ],
      "metadata": {
        "colab": {
          "base_uri": "https://localhost:8080/"
        },
        "id": "s1PbcZGkmqkw",
        "outputId": "9a39e1d5-af66-4711-ff69-0c28f1aa3ca3"
      },
      "execution_count": 6,
      "outputs": [
        {
          "output_type": "execute_result",
          "data": {
            "text/plain": [
              "1194083"
            ]
          },
          "metadata": {},
          "execution_count": 6
        }
      ]
    }
  ]
}