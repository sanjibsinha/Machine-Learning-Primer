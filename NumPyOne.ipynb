{
  "nbformat": 4,
  "nbformat_minor": 0,
  "metadata": {
    "colab": {
      "provenance": [],
      "authorship_tag": "ABX9TyO2dYmdhgW3XnCU9+jJWg5i",
      "include_colab_link": true
    },
    "kernelspec": {
      "name": "python3",
      "display_name": "Python 3"
    },
    "language_info": {
      "name": "python"
    }
  },
  "cells": [
    {
      "cell_type": "markdown",
      "metadata": {
        "id": "view-in-github",
        "colab_type": "text"
      },
      "source": [
        "<a href=\"https://colab.research.google.com/github/sanjibsinha/Machine-Learning-Primer/blob/vector-and-matrix/NumPyOne.ipynb\" target=\"_parent\"><img src=\"https://colab.research.google.com/assets/colab-badge.svg\" alt=\"Open In Colab\"/></a>"
      ]
    },
    {
      "cell_type": "code",
      "execution_count": 1,
      "metadata": {
        "colab": {
          "base_uri": "https://localhost:8080/"
        },
        "id": "Cz2pHbtGEZfH",
        "outputId": "a2d74525-2cf3-4231-d21e-eb0a1e6b570c"
      },
      "outputs": [
        {
          "output_type": "stream",
          "name": "stdout",
          "text": [
            "(2,)\n",
            "<U6\n",
            "2\n",
            "(5,)\n",
            "float64\n",
            "5\n"
          ]
        }
      ],
      "source": [
        "# first example\n",
        "import numpy as np\n",
        "\n",
        "first = np.array(['Sanjib', 'John'])\n",
        "\n",
        "print(first.shape)\n",
        "print(first.dtype)\n",
        "print(first.size)\n",
        "\n",
        "\n",
        "second = np.array([2.5, 3.56, 4.47, 5.1, 6.78])\n",
        "\n",
        "print(second.shape)\n",
        "print(second.dtype)\n",
        "print(second.size)"
      ]
    }
  ]
}