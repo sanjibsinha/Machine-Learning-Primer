{
  "nbformat": 4,
  "nbformat_minor": 0,
  "metadata": {
    "colab": {
      "provenance": [],
      "authorship_tag": "ABX9TyMQaFJD7QZD1a6zN4Mu3Bb4",
      "include_colab_link": true
    },
    "kernelspec": {
      "name": "python3",
      "display_name": "Python 3"
    },
    "language_info": {
      "name": "python"
    }
  },
  "cells": [
    {
      "cell_type": "markdown",
      "metadata": {
        "id": "view-in-github",
        "colab_type": "text"
      },
      "source": [
        "<a href=\"https://colab.research.google.com/github/sanjibsinha/Machine-Learning-Primer/blob/inter/Untitled3.ipynb\" target=\"_parent\"><img src=\"https://colab.research.google.com/assets/colab-badge.svg\" alt=\"Open In Colab\"/></a>"
      ]
    },
    {
      "cell_type": "code",
      "execution_count": null,
      "metadata": {
        "id": "B9MAqGcwwpbg"
      },
      "outputs": [],
      "source": []
    },
    {
      "cell_type": "markdown",
      "source": [
        "\n",
        "\n",
        "How Thor defeated Giants?\n",
        "\n",
        "In Norse mythology, Thor defeated giants through his strength and cunning. He used his enchanted hammer Mjolnir.\n",
        "\n",
        "Thor , the god of thunder, defeated his enemies, with his quick thinking and bravery.\n",
        "\n",
        "He often emerges victorious in battles against giants. \n",
        "\n",
        "Additionally, his loyal servants and fellow gods helped him in his battles against the giants.\n",
        "\n",
        "Mjolnir, also known as Thor's Hammer.\n",
        "\n",
        "It was a powerful weapon in Norse mythology. \n",
        "\n",
        "Moreover, dwarves made this hammer and Thor's father Odin taught him to use it.\n",
        "\n",
        "Mjolnir was a short-handled hammer with a heavy head.\n",
        "\n",
        "In addition it was capable of unleashing bolts of lightning and crushing anything in its path. \n",
        "\n",
        "The hammer was also said to have the power of returning to Thor's hand after being thrown, much like a boomerang. \n",
        "\n",
        "In many tales, Mjolnir was a symbol of Thor's power and was instrumental in his battles against the giants and other enemies of the gods. \n",
        "\n",
        "The hammer was also a central aspect of Thor's mythology, and was often depicted in art and literature\n",
        "\n",
        "In Norse mythology, Thor was the god of thunder and everyone knows him for his bravery and strength. \n",
        "\n",
        "Thor's greatest foes were the giants, who threatened the Norse gods and the balance of the world. \n",
        "\n",
        "But Thor With Mjolnir in hand, fearlessly battled the giants and emerged victorious time and time again.\n",
        "\n",
        "Thor's battles against the giants symbolized the eternal struggle between good and evil.\n",
        "\n",
        "His unwavering courage and power still inspires the ancient Scandinavians and continues to captivate audiences today. \n",
        "\n",
        "So, the next time you hear the sound of thunder, remember Thor, the god of thunder, and his legendary battles against the giants.\n",
        "\n",
        "For more please visit sanjib sinha dot com. The link is given in the description below.\n",
        "\n",
        "The website - [https://sanjibsinha.com](https://sanjibsinha.com)\n",
        "Sanjib Sinha GitHub - [https://github.com/sanjibsinha](https://sanjibsinha.com)\n",
        "\n",
        "The website - [https://sanjibsinha.com](https://sanjibsinha.com) is a project, which is a starting point for a WordPress application. Any beginner may use the code repository to learn how one can develop a WordPress web application from scratch.\n",
        "\n",
        "- [Lab: Read the Latest Updated Articles on Flutter Tool Kit](https://sanjibsinha.com/category/flutter)\n",
        "\n",
        "## Do you want to build a mobile application?\n",
        "In that case, you may read these Books to build Flutter App from scratch.\n",
        "### In English\n",
        "- [Elementary Dart and Flutter for Beginners](https://leanpub.com/elementarydartandflutterforbeginners)\n",
        "\n",
        "## Get the necessary Guide\n",
        "\n",
        "- [Beginning Flutter with Dart](https://leanpub.com/beginningflutterwithdart)\n",
        "- [Better Flutter](https://leanpub.com/betterflutter)\n",
        "- [State in Flutter](https://leanpub.com/stateinflutter)\n",
        "- [A Complete Flutter Guide: From Beginners to Advanced](https://leanpub.com/b/acompleteflutterguidefrombeginnerstoadvanced)\n",
        "\n"
      ],
      "metadata": {
        "id": "djBCINLmwrGH"
      }
    }
  ]
}