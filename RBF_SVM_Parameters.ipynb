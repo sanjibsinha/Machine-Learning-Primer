{
  "nbformat": 4,
  "nbformat_minor": 0,
  "metadata": {
    "colab": {
      "provenance": [],
      "collapsed_sections": [],
      "authorship_tag": "ABX9TyMUdQhQ6qqxhuTzQ3pIyqtN",
      "include_colab_link": true
    },
    "kernelspec": {
      "name": "python3",
      "display_name": "Python 3"
    },
    "language_info": {
      "name": "python"
    }
  },
  "cells": [
    {
      "cell_type": "markdown",
      "metadata": {
        "id": "view-in-github",
        "colab_type": "text"
      },
      "source": [
        "<a href=\"https://colab.research.google.com/github/sanjibsinha/Machine-Learning-Primer/blob/main/RBF_SVM_Parameters.ipynb\" target=\"_parent\"><img src=\"https://colab.research.google.com/assets/colab-badge.svg\" alt=\"Open In Colab\"/></a>"
      ]
    },
    {
      "cell_type": "code",
      "source": [
        "import matplotlib.pyplot as plt\n",
        "import matplotlib as mpl\n",
        "from sklearn.datasets import load_digits\n",
        "import numpy as np\n",
        "import random\n",
        "\n",
        "digits_examples = load_digits()\n",
        "X, y = digits_examples.data, digits_examples.target\n",
        "%matplotlib inline\n",
        "random_numbers = [random.randint(0, len(digits_examples.images))\n",
        "for i in range(20)]\n",
        "for n,number in enumerate(random_numbers):\n",
        "  plt.subplot(3, 7, n + 1)\n",
        "  plt.imshow(digits_examples.images[number], cmap='binary', interpolation='none', extent=[0, 6, 0, 6])\n",
        "  plt.grid()\n",
        "\n",
        "plt.show()"
      ],
      "metadata": {
        "colab": {
          "base_uri": "https://localhost:8080/",
          "height": 242
        },
        "id": "LyncwE34Rhof",
        "outputId": "3f04f877-956f-4577-b73b-d565b5be206c"
      },
      "execution_count": 3,
      "outputs": [
        {
          "output_type": "display_data",
          "data": {
            "text/plain": [
              "<Figure size 432x288 with 20 Axes>"
            ],
            "image/png": "[encoded data removed]"
          },
          "metadata": {
            "needs_background": "light"
          }
        }
      ]
    }
  ]
}