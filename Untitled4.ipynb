{
  "nbformat": 4,
  "nbformat_minor": 0,
  "metadata": {
    "colab": {
      "provenance": [],
      "authorship_tag": "ABX9TyN+5Np7edcjwfdC8+G6JB+e",
      "include_colab_link": true
    },
    "kernelspec": {
      "name": "python3",
      "display_name": "Python 3"
    },
    "language_info": {
      "name": "python"
    }
  },
  "cells": [
    {
      "cell_type": "markdown",
      "metadata": {
        "id": "view-in-github",
        "colab_type": "text"
      },
      "source": [
        "<a href=\"https://colab.research.google.com/github/sanjibsinha/Machine-Learning-Primer/blob/inter/Untitled4.ipynb\" target=\"_parent\"><img src=\"https://colab.research.google.com/assets/colab-badge.svg\" alt=\"Open In Colab\"/></a>"
      ]
    },
    {
      "cell_type": "code",
      "execution_count": null,
      "metadata": {
        "id": "fs_YpFv-jloP"
      },
      "outputs": [],
      "source": []
    },
    {
      "cell_type": "markdown",
      "source": [
        "\n",
        "\n",
        "Who invents Q & A\n",
        "\n",
        "The modern conception of Q & A or knowledge through question and answer comes from the Greek philosopher Socrates. \n",
        "\n",
        "He first thought about it.\n",
        "\n",
        "Later he also successfully implemented it.\n",
        "\n",
        "Socratic method of question and answer starts with self questioning.\n",
        "\n",
        "After questioning himself Socrates declared that he was ignorant.\n",
        "\n",
        "Moreover he was aware of his own absence of knowledge.\n",
        "\n",
        "He also claimed that the unexamined life is not worth living.\n",
        "\n",
        "To be precise, The Socratic method is a teaching and learning method.\n",
        "\n",
        "It involves asking questions to encourage critical thinking and to reveal underlying ideas. \n",
        "\n",
        "Socrates used this technique to examine beliefs and test assumptions. \n",
        "\n",
        "In the Socratic method, a teacher or facilitator asks a series of questions.\n",
        "\n",
        "As a result, it prompts the student to consider their own beliefs and assumptions.\n",
        "\n",
        "Consequently it helps them to reach a deeper understanding of the subject being discussed. \n",
        "\n",
        "The goal is to encourage students to arrive at the truth through their own reasoning and critical thinking.\n",
        "\n",
        "Socrates was against accepting the ideas of others.\n",
        "\n",
        "For more please visit sanjib sinha dot com. The link is given in the description below.\n",
        "\n",
        "The website - [https://sanjibsinha.com](https://sanjibsinha.com)\n",
        "Sanjib Sinha GitHub - [https://github.com/sanjibsinha](https://sanjibsinha.com)\n",
        "\n",
        "The website - [https://sanjibsinha.com](https://sanjibsinha.com) is a project, which is a starting point for a WordPress application. Any beginner may use the code repository to learn how one can develop a WordPress web application from scratch.\n",
        "\n",
        "- [Lab: Read the Latest Updated Articles on Flutter Tool Kit](https://sanjibsinha.com/category/flutter)\n",
        "\n",
        "## Do you want to build a mobile application?\n",
        "In that case, you may read these Books to build Flutter App from scratch.\n",
        "### In English\n",
        "- [Elementary Dart and Flutter for Beginners](https://leanpub.com/elementarydartandflutterforbeginners)\n",
        "\n",
        "## Get the necessary Guide\n",
        "\n",
        "- [Beginning Flutter with Dart](https://leanpub.com/beginningflutterwithdart)\n",
        "- [Better Flutter](https://leanpub.com/betterflutter)\n",
        "- [State in Flutter](https://leanpub.com/stateinflutter)\n",
        "- [A Complete Flutter Guide: From Beginners to Advanced](https://leanpub.com/b/acompleteflutterguidefrombeginnerstoadvanced)\n",
        "\n"
      ],
      "metadata": {
        "id": "AVh0F4mOjm4m"
      }
    }
  ]
}