{
  "nbformat": 4,
  "nbformat_minor": 0,
  "metadata": {
    "colab": {
      "provenance": [],
      "authorship_tag": "ABX9TyMhTgUvpy/3IcOVrM2ZcWyx",
      "include_colab_link": true
    },
    "kernelspec": {
      "name": "python3",
      "display_name": "Python 3"
    },
    "language_info": {
      "name": "python"
    }
  },
  "cells": [
    {
      "cell_type": "markdown",
      "metadata": {
        "id": "view-in-github",
        "colab_type": "text"
      },
      "source": [
        "<a href=\"https://colab.research.google.com/github/sanjibsinha/Machine-Learning-Primer/blob/vector-and-matrix/NumPyOne.ipynb\" target=\"_parent\"><img src=\"https://colab.research.google.com/assets/colab-badge.svg\" alt=\"Open In Colab\"/></a>"
      ]
    },
    {
      "cell_type": "code",
      "execution_count": 1,
      "metadata": {
        "colab": {
          "base_uri": "https://localhost:8080/"
        },
        "id": "Cz2pHbtGEZfH",
        "outputId": "a2d74525-2cf3-4231-d21e-eb0a1e6b570c"
      },
      "outputs": [
        {
          "output_type": "stream",
          "name": "stdout",
          "text": [
            "(2,)\n",
            "<U6\n",
            "2\n",
            "(5,)\n",
            "float64\n",
            "5\n"
          ]
        }
      ],
      "source": [
        "# first example\n",
        "import numpy as np\n",
        "\n",
        "first = np.array(['Sanjib', 'John'])\n",
        "\n",
        "print(first.shape)\n",
        "print(first.dtype)\n",
        "print(first.size)\n",
        "\n",
        "\n",
        "second = np.array([2.5, 3.56, 4.47, 5.1, 6.78])\n",
        "\n",
        "print(second.shape)\n",
        "print(second.dtype)\n",
        "print(second.size)"
      ]
    },
    {
      "cell_type": "code",
      "source": [
        "import matplotlib.pyplot as plt\n",
        "plt.plot([10, 20, 30, 40])\n",
        "plt.ylabel('Numbers')\n",
        "plt.show()"
      ],
      "metadata": {
        "colab": {
          "base_uri": "https://localhost:8080/",
          "height": 265
        },
        "id": "5kO0p0NGF1ej",
        "outputId": "25109741-d3e0-4094-e482-bfef01504e31"
      },
      "execution_count": 2,
      "outputs": [
        {
          "output_type": "display_data",
          "data": {
            "text/plain": [
              "<Figure size 432x288 with 1 Axes>"
            ],
            "image/png": "[encoded data removed]"
          },
          "metadata": {
            "needs_background": "light"
          }
        }
      ]
    },
    {
      "cell_type": "code",
      "source": [
        "import pandas as panda\n",
        "\n",
        "data_frame_of_numbers = panda.DataFrame({'name': ['John', 'Emily', 'Json'], 'mark': [98, 99, 98]})\n",
        "\n",
        "print(data_frame_of_numbers)"
      ],
      "metadata": {
        "colab": {
          "base_uri": "https://localhost:8080/"
        },
        "id": "f4RF4wblGueR",
        "outputId": "768033c2-69c4-4b79-c2cb-79a8e4d72eeb"
      },
      "execution_count": 3,
      "outputs": [
        {
          "output_type": "stream",
          "name": "stdout",
          "text": [
            "    name  mark\n",
            "0   John    98\n",
            "1  Emily    99\n",
            "2   Json    98\n"
          ]
        }
      ]
    }
  ]
}