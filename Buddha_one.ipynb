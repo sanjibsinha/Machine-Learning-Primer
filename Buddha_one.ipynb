{
  "nbformat": 4,
  "nbformat_minor": 0,
  "metadata": {
    "colab": {
      "provenance": [],
      "authorship_tag": "ABX9TyO7oxw6t7dmVVkEYnL+ISAL",
      "include_colab_link": true
    },
    "kernelspec": {
      "name": "python3",
      "display_name": "Python 3"
    },
    "language_info": {
      "name": "python"
    }
  },
  "cells": [
    {
      "cell_type": "markdown",
      "metadata": {
        "id": "view-in-github",
        "colab_type": "text"
      },
      "source": [
        "<a href=\"https://colab.research.google.com/github/sanjibsinha/Machine-Learning-Primer/blob/inter/Buddha_one.ipynb\" target=\"_parent\"><img src=\"https://colab.research.google.com/assets/colab-badge.svg\" alt=\"Open In Colab\"/></a>"
      ]
    },
    {
      "cell_type": "code",
      "execution_count": null,
      "metadata": {
        "id": "LfwpfBkcpzNz"
      },
      "outputs": [],
      "source": []
    },
    {
      "cell_type": "markdown",
      "source": [
        "Did Buddha reject Vedas?\n",
        "\n",
        "Goutam Buddha did not reject the Vedas as a whole. But rather, he challenged certain Hindu beliefs and practices.\n",
        "\n",
        "Those rituals were prevalent during his time, which were based on the Vedas. \n",
        "\n",
        "Buddha believed that the path to liberation and enlightenment was not through rituals and sacrifices prescribed by the Vedas.\n",
        "\n",
        "But through the Eightfold Path, which is a set of ethical and mental practices leading to self-awareness and enlightenment. \n",
        "\n",
        "Thus, his teachings diverged from the then prevalent Vedic tradition.\n",
        "\n",
        "However, he did not reject the text itself.\n",
        "\n",
        "In addition, The Buddha was strongly opposed to the first tenet of Brahmanism. \n",
        "\n",
        "He rejected their thesis that the Vedas are error-free and people could never question their authority. \n",
        "\n",
        "In his opinion, nothing was infallible and nothing could be final.\n",
        "\n",
        "The Buddha taught that the path to liberation and enlightenment.\n",
        "\n",
        "He believed lies in the individual's own effort and understanding, rather than relying on rituals, sacrifices, or external forces. \n",
        "\n",
        "For more please visit sanjib sinha dot com. The link is given below.\n",
        "\n",
        "The website - [https://sanjibsinha.com](https://sanjibsinha.com) is a project, which is a starting point for a WordPress application. Any beginner may use the code repository to learn how one can develop a WordPress web application from scratch.\n",
        "\n",
        "- [Lab: Read the Latest Updated Articles on Flutter Tool Kit](https://sanjibsinha.com/category/flutter)\n",
        "\n",
        "## Have you not coded before?\n",
        "Well, we have a commonness. \n",
        "It's because at one point we all started as non-coders who had not coded before. \n",
        "As a result, I thought tThe website - [https://sinhasanjib.com](https://sinhasanjib.com) might be another project that deals with very beginning staff.\n",
        "You will get an initial ideas on how we use natural languages, the similar patterns in Grammar and many more. \n",
        "## Do you want to build a mobile application?\n",
        "In that case, you may read these Books to build Flutter App from scratch.\n",
        "### In English\n",
        "- [Elementary Dart and Flutter for Beginners](https://leanpub.com/elementarydartandflutterforbeginners)\n",
        "\n",
        "## Get the necessary Guide\n",
        "\n",
        "- [Beginning Flutter with Dart](https://leanpub.com/beginningflutterwithdart)\n",
        "- [Better Flutter](https://leanpub.com/betterflutter)\n",
        "- [State in Flutter](https://leanpub.com/stateinflutter)\n",
        "- [A Complete Flutter Guide: From Beginners to Advanced](https://leanpub.com/b/acompleteflutterguidefrombeginnerstoadvanced)\n",
        "\n"
      ],
      "metadata": {
        "id": "p99XeosHp2cj"
      }
    }
  ]
}