{
  "nbformat": 4,
  "nbformat_minor": 0,
  "metadata": {
    "colab": {
      "provenance": [],
      "authorship_tag": "ABX9TyO3XkTgLgzvtR7eN7fHlxud",
      "include_colab_link": true
    },
    "kernelspec": {
      "name": "python3",
      "display_name": "Python 3"
    },
    "language_info": {
      "name": "python"
    }
  },
  "cells": [
    {
      "cell_type": "markdown",
      "metadata": {
        "id": "view-in-github",
        "colab_type": "text"
      },
      "source": [
        "<a href=\"https://colab.research.google.com/github/sanjibsinha/Machine-Learning-Primer/blob/inter/Untitled7.ipynb\" target=\"_parent\"><img src=\"https://colab.research.google.com/assets/colab-badge.svg\" alt=\"Open In Colab\"/></a>"
      ]
    },
    {
      "cell_type": "code",
      "execution_count": null,
      "metadata": {
        "id": "Gg9MvOlMvf02"
      },
      "outputs": [],
      "source": []
    },
    {
      "cell_type": "markdown",
      "source": [
        "\n",
        "\n",
        "The legend of Thor and his hammer Mjolnir\n",
        "\n",
        "As the time passes the legend of Thor and his hammer Mjolnir grows and lives on forever.\n",
        "\n",
        "It is because Thor killed the Giants single handedly with Mjolnir.\n",
        "\n",
        "That was a dark rainy night and the sky with lightning bolts flashed in the background.\n",
        "\n",
        "It assured everyone. Thor was there.\n",
        "\n",
        "In Norse mythology, the Asgard, or the home of Gods, listened to the prayers of the common people who wanted Thor’s intervention.\n",
        "\n",
        "They know that In Asgard lived the mightiest of all gods, Thor.\n",
        "\n",
        "Gods came to Thor who was standing with Mjolnir in hand.\n",
        "\n",
        "Gods said, Thor, the son of Odin, you were the protector of Asgard and the realm of mortals.\n",
        "\n",
        "Please do something to protect Asgard and mankind from the attacks of giants.\n",
        "\n",
        "Thor asked, “Why me?”\n",
        "\n",
        "All Gods said, “Because people want you for your immense strength and bravery.”\n",
        "\n",
        "Then Thor fought against giants with Mjolnir in hand. \n",
        "\n",
        "However, his greatest weapon was not his strength, but his trusty hammer, Mjolnir.\n",
        "\n",
        "Mjolnir brought lightning and bolted flashing in the background and acted like a boomerang.\n",
        "\n",
        "It came back to Thor’s hand again.\n",
        "\n",
        "Actually, Mjolnir, forged by dwarves and imbued with Odin's magic, was said to be indestructible.\n",
        "\n",
        "That was how Thor wielded Mjolnir and summoned lightning bolts and defeated evils.\n",
        "\n",
        "With Mjolnir in hand, Thor was able to summon the power of the storms.\n",
        "\n",
        "The lightning bolts even made the giants’ blood cold.\n",
        "\n",
        "Finally, Thor and Mjolnir, a duo that struck fear in the hearts of the wicked and brought hope to those in need.\n",
        "\n",
        "Moreover, For generations, the legend of Thor and his hammer have lived on, inspiring tales of bravery and strength.\n",
        "\n",
        "For more please visit sanjib sinha dot com. \n",
        "\n",
        "The link is given in the description below.\n",
        "\n",
        "The website - [https://sanjibsinha.com](https://sanjibsinha.com) is a project, which is a starting point for a WordPress application. Any beginner may use the code repository to learn how one can develop a WordPress web application from scratch.\n",
        "\n",
        "- [Lab: Read the Latest Updated Articles on Flutter Tool Kit](https://sanjibsinha.com/category/flutter)\n",
        "\n",
        "## Have you not coded before?\n",
        "Well, we have a commonness. \n",
        "It's because at one point we all started as non-coders who had not coded before. \n",
        "As a result, I thought tThe website - [https://sinhasanjib.com](https://sinhasanjib.com) might be another project that deals with very beginning staff.\n",
        "You will get an initial ideas on how we use natural languages, the similar patterns in Grammar and many more. \n",
        "## Do you want to build a mobile application?\n",
        "In that case, you may read these Books to build Flutter App from scratch.\n",
        "### In English\n",
        "- [Elementary Dart and Flutter for Beginners](https://leanpub.com/elementarydartandflutterforbeginners)\n",
        "\n",
        "## Get the necessary Guide\n",
        "\n",
        "- [Beginning Flutter with Dart](https://leanpub.com/beginningflutterwithdart)\n",
        "- [Better Flutter](https://leanpub.com/betterflutter)\n",
        "- [State in Flutter](https://leanpub.com/stateinflutter)\n",
        "- [A Complete Flutter Guide: From Beginners to Advanced](https://leanpub.com/b/acompleteflutterguidefrombeginnerstoadvanced)"
      ],
      "metadata": {
        "id": "gxpGvAyOvg3P"
      }
    }
  ]
}