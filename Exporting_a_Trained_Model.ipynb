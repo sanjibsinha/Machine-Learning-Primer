{
  "nbformat": 4,
  "nbformat_minor": 0,
  "metadata": {
    "colab": {
      "provenance": [],
      "mount_file_id": "1RzUIZUO4hUd7M0JJ-d5Q1nQTNLK2ibwb",
      "authorship_tag": "ABX9TyMJSPR6JzxdE4ZipFyM5fjb",
      "include_colab_link": true
    },
    "kernelspec": {
      "name": "python3",
      "display_name": "Python 3"
    },
    "language_info": {
      "name": "python"
    }
  },
  "cells": [
    {
      "cell_type": "markdown",
      "metadata": {
        "id": "view-in-github",
        "colab_type": "text"
      },
      "source": [
        "<a href=\"https://colab.research.google.com/github/sanjibsinha/Machine-Learning-Primer/blob/main/Exporting_a_Trained_Model.ipynb\" target=\"_parent\"><img src=\"https://colab.research.google.com/assets/colab-badge.svg\" alt=\"Open In Colab\"/></a>"
      ]
    },
    {
      "cell_type": "code",
      "execution_count": 1,
      "metadata": {
        "colab": {
          "base_uri": "https://localhost:8080/"
        },
        "id": "QSsVTkrRQUyO",
        "outputId": "6a72b99c-f078-4f3e-b054-6f1cad319b2c"
      },
      "outputs": [
        {
          "output_type": "stream",
          "name": "stdout",
          "text": [
            "Model trained successfully!\n"
          ]
        }
      ],
      "source": [
        "# Import our necessary libraries\n",
        "import pandas as pd\n",
        "from sklearn.linear_model import LinearRegression\n",
        "import joblib\n",
        "\n",
        "# Create the dataset\n",
        "data = {'SquareFeet': [1400, 1600, 1700, 1875, 1100, 1550, 2350, 2450, 1425, 1700],\n",
        "        'Price': [245000, 312000, 279000, 308000, 199000, 219000, 405000, 324000, 319000, 255000]}\n",
        "df = pd.DataFrame(data)\n",
        "\n",
        "# Separate features (X) and target (y)\n",
        "X = df[['SquareFeet']]\n",
        "y = df['Price']\n",
        "\n",
        "# Create and train the model on the entire dataset\n",
        "model = LinearRegression()\n",
        "model.fit(X, y)\n",
        "\n",
        "print(\"Model trained successfully!\")"
      ]
    },
    {
      "cell_type": "code",
      "source": [
        "# Save the trained model to a file\n",
        "joblib.dump(model, 'price_predictor.joblib')\n",
        "\n",
        "print(\"Model saved to price_predictor.joblib\")"
      ],
      "metadata": {
        "colab": {
          "base_uri": "https://localhost:8080/"
        },
        "id": "ax9M9o_2RlLY",
        "outputId": "46516c5d-39b0-4e16-de25-5aad0f44387b"
      },
      "execution_count": 2,
      "outputs": [
        {
          "output_type": "stream",
          "name": "stdout",
          "text": [
            "Model saved to price_predictor.joblib\n"
          ]
        }
      ]
    }
  ]
}