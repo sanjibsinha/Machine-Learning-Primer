{
  "nbformat": 4,
  "nbformat_minor": 0,
  "metadata": {
    "colab": {
      "provenance": [],
      "authorship_tag": "ABX9TyMGyfgGDmZHrs760Y53YoEH",
      "include_colab_link": true
    },
    "kernelspec": {
      "name": "python3",
      "display_name": "Python 3"
    },
    "language_info": {
      "name": "python"
    }
  },
  "cells": [
    {
      "cell_type": "markdown",
      "metadata": {
        "id": "view-in-github",
        "colab_type": "text"
      },
      "source": [
        "<a href=\"https://colab.research.google.com/github/sanjibsinha/Machine-Learning-Primer/blob/main/tf_one.ipynb\" target=\"_parent\"><img src=\"https://colab.research.google.com/assets/colab-badge.svg\" alt=\"Open In Colab\"/></a>"
      ]
    },
    {
      "cell_type": "code",
      "execution_count": 1,
      "metadata": {
        "id": "ZsRPM6Xx5-OR",
        "colab": {
          "base_uri": "https://localhost:8080/"
        },
        "outputId": "392506c5-a4ea-4db5-90a6-b21070ae0df8"
      },
      "outputs": [
        {
          "output_type": "stream",
          "name": "stdout",
          "text": [
            "2.18.0\n"
          ]
        }
      ],
      "source": [
        "import tensorflow as tf\n",
        "print(tf.__version__)"
      ]
    },
    {
      "cell_type": "code",
      "source": [
        "import tensorflow as tf\n",
        "print(\"TensorFlow version:\", tf.__version__)"
      ],
      "metadata": {
        "colab": {
          "base_uri": "https://localhost:8080/"
        },
        "id": "4-78cvgr9k47",
        "outputId": "9d783e18-3bc4-48e9-b5f3-c1f6c4dd8daa"
      },
      "execution_count": 2,
      "outputs": [
        {
          "output_type": "stream",
          "name": "stdout",
          "text": [
            "TensorFlow version: 2.18.0\n"
          ]
        }
      ]
    },
    {
      "cell_type": "code",
      "source": [
        "# Create two constant tensors\n",
        "tensor_a = tf.constant([[1, 2],\n",
        "                        [3, 4]])\n",
        "tensor_b = tf.constant([[5, 6],\n",
        "                        [7, 8]])\n",
        "\n",
        "# Add the tensors\n",
        "tensor_sum = tensor_a + tensor_b\n",
        "\n",
        "# Print the tensors and their sum\n",
        "print(\"Tensor A:\")\n",
        "print(tensor_a)\n",
        "print(\"\\nTensor B:\")\n",
        "print(tensor_b)\n",
        "print(\"\\nSum of Tensor A and Tensor B:\")\n",
        "print(tensor_sum)"
      ],
      "metadata": {
        "colab": {
          "base_uri": "https://localhost:8080/"
        },
        "id": "16H1XGh29vpk",
        "outputId": "e82dce7a-1629-4375-a622-d7d0044732a6"
      },
      "execution_count": 3,
      "outputs": [
        {
          "output_type": "stream",
          "name": "stdout",
          "text": [
            "Tensor A:\n",
            "tf.Tensor(\n",
            "[[1 2]\n",
            " [3 4]], shape=(2, 2), dtype=int32)\n",
            "\n",
            "Tensor B:\n",
            "tf.Tensor(\n",
            "[[5 6]\n",
            " [7 8]], shape=(2, 2), dtype=int32)\n",
            "\n",
            "Sum of Tensor A and Tensor B:\n",
            "tf.Tensor(\n",
            "[[ 6  8]\n",
            " [10 12]], shape=(2, 2), dtype=int32)\n"
          ]
        }
      ]
    }
  ]
}