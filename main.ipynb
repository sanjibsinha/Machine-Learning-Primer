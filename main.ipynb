{
  "nbformat": 4,
  "nbformat_minor": 0,
  "metadata": {
    "colab": {
      "provenance": [],
      "authorship_tag": "ABX9TyNNu3BUafiXvf8ikld59cBU",
      "include_colab_link": true
    },
    "kernelspec": {
      "name": "python3",
      "display_name": "Python 3"
    },
    "language_info": {
      "name": "python"
    }
  },
  "cells": [
    {
      "cell_type": "markdown",
      "metadata": {
        "id": "view-in-github",
        "colab_type": "text"
      },
      "source": [
        "<a href=\"https://colab.research.google.com/github/sanjibsinha/Machine-Learning-Primer/blob/main/main.ipynb\" target=\"_parent\"><img src=\"https://colab.research.google.com/assets/colab-badge.svg\" alt=\"Open In Colab\"/></a>"
      ]
    },
    {
      "cell_type": "code",
      "execution_count": null,
      "metadata": {
        "colab": {
          "base_uri": "https://localhost:8080/"
        },
        "id": "RmrENywvRK4e",
        "outputId": "918a2a21-1cb2-4a00-881e-8ec8f79453c1"
      },
      "outputs": [
        {
          "output_type": "stream",
          "name": "stdout",
          "text": [
            "__main__\n"
          ]
        }
      ],
      "source": [
        "print(__name__)"
      ]
    },
    {
      "cell_type": "code",
      "source": [
        "def main():\n",
        "  print(\"Hello World\")\n",
        "\n",
        "if __name__ == \"__main__\":\n",
        "  main()"
      ],
      "metadata": {
        "colab": {
          "base_uri": "https://localhost:8080/"
        },
        "id": "crqPBsNtRuck",
        "outputId": "701f6944-9d40-488f-f2a7-bb9681d9f96d"
      },
      "execution_count": null,
      "outputs": [
        {
          "output_type": "stream",
          "name": "stdout",
          "text": [
            "Hello World\n"
          ]
        }
      ]
    },
    {
      "cell_type": "code",
      "source": [
        "def main():\n",
        "  print(\"A line inside main() function.\")\n",
        "\n",
        "print(\"A line outside main() function.\")\n",
        "\n",
        "if __name__ == \"__main__\":\n",
        "  main()"
      ],
      "metadata": {
        "colab": {
          "base_uri": "https://localhost:8080/"
        },
        "id": "bF_Vta28-t8Z",
        "outputId": "a50db272-5ed7-4897-8d72-bfbf16c24bbc"
      },
      "execution_count": 2,
      "outputs": [
        {
          "output_type": "stream",
          "name": "stdout",
          "text": [
            "A line outside main() function.\n",
            "A line inside main() function.\n"
          ]
        }
      ]
    },
    {
      "cell_type": "code",
      "source": [
        "print(\"A line outside main() function.\")\n",
        "\n",
        "def main():\n",
        "  print(\"A line inside main() function.\")\n",
        "\n",
        "def OutSideMainFunction():\n",
        "  x = 0\n",
        "  while x < 5:\n",
        "    print(x)\n",
        "    x = x + 1\n",
        "\n",
        "if __name__ == \"__main__\":\n",
        "  main()\n",
        "\n",
        "OutSideMainFunction()"
      ],
      "metadata": {
        "colab": {
          "base_uri": "https://localhost:8080/"
        },
        "id": "82YZAUFj_L2U",
        "outputId": "84fdcb03-e448-485d-948b-037bdb85efdb"
      },
      "execution_count": 8,
      "outputs": [
        {
          "output_type": "stream",
          "name": "stdout",
          "text": [
            "A line outside main() function.\n",
            "A line inside main() function.\n",
            "0\n",
            "1\n",
            "2\n",
            "3\n",
            "4\n"
          ]
        }
      ]
    }
  ]
}