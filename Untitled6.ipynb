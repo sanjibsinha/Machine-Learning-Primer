{
  "nbformat": 4,
  "nbformat_minor": 0,
  "metadata": {
    "colab": {
      "provenance": [],
      "authorship_tag": "ABX9TyM8B7xqqmMAYU5Bi8bE/fLS",
      "include_colab_link": true
    },
    "kernelspec": {
      "name": "python3",
      "display_name": "Python 3"
    },
    "language_info": {
      "name": "python"
    }
  },
  "cells": [
    {
      "cell_type": "markdown",
      "metadata": {
        "id": "view-in-github",
        "colab_type": "text"
      },
      "source": [
        "<a href=\"https://colab.research.google.com/github/sanjibsinha/Machine-Learning-Primer/blob/inter/Untitled6.ipynb\" target=\"_parent\"><img src=\"https://colab.research.google.com/assets/colab-badge.svg\" alt=\"Open In Colab\"/></a>"
      ]
    },
    {
      "cell_type": "code",
      "execution_count": null,
      "metadata": {
        "id": "WCUpw38wY-Yc"
      },
      "outputs": [],
      "source": []
    },
    {
      "cell_type": "markdown",
      "source": [
        "\n",
        "\n",
        "Who are the 3 main Norse gods?\n",
        "\n",
        "The Norse mythology is full of action and adventure stories where The three main Norse gods Odin, Thor, and Freyr took part.\n",
        "\n",
        "However, not only Odin, Thor, and Freyr play crucial parts in Norse mythology.\n",
        "\n",
        "There are more to come as we progress.\n",
        "\n",
        "We can start with Odin.\n",
        "\n",
        "In Norse mythology, Odin is the god of wisdom, war, and death. \n",
        "\n",
        "The Norse mythology depicts Odin as a one-eyed old man.\n",
        "\n",
        "He always carried a spear named Gungnir and wore a cloak.\n",
        "\n",
        "On the other hand, Thor is the god of thunder.\n",
        "\n",
        "His life was full of action, war, and adventure.\n",
        "\n",
        "Norse mythology considers him as the most powerful of all the gods. \n",
        "\n",
        "Thor is a large man with red hair and a beard.\n",
        "\n",
        "He always carried a hammer called Mjolnir.\n",
        "\n",
        "With the help of Mjolnir he killed many giants.\n",
        "\n",
        "Finally, Freyr is the god of love, fertility and prosperity. \n",
        "\n",
        "As a result, the coming of spring tells us about Freyr who was a handsome young man with a shining sword.\n",
        "\n",
        "In conclusion, These gods are part of the pantheon of gods in Norse mythology.\n",
        "\n",
        "No doubt, their stories and adventures are a central part of the myths and legends of the Norse people.\n",
        "\n",
        "Moreover, Norse mythology is full of stories and adventures featuring these gods, as well as other mythical creatures and heroes.\n",
        "\n",
        "As we progress, we will read all the stories.\n",
        "\n",
        "For more please visit sanjib sinha dot com. The link is given in the description below.\n",
        "\n",
        "The website - [https://sanjibsinha.com](https://sanjibsinha.com)\n",
        "Sanjib Sinha GitHub - [https://github.com/sanjibsinha](https://sanjibsinha.com)\n",
        "\n",
        "The website - [https://sanjibsinha.com](https://sanjibsinha.com) is a project, which is a starting point for a WordPress application. Any beginner may use the code repository to learn how one can develop a WordPress web application from scratch.\n",
        "\n",
        "- [Lab: Read the Latest Updated Articles on Flutter Tool Kit](https://sanjibsinha.com/category/flutter)\n",
        "\n",
        "## Do you want to build a mobile application?\n",
        "In that case, you may read these Books to build Flutter App from scratch.\n",
        "### In English\n",
        "- [Elementary Dart and Flutter for Beginners](https://leanpub.com/elementarydartandflutterforbeginners)\n",
        "\n",
        "## Get the necessary Guide\n",
        "\n",
        "- [Beginning Flutter with Dart](https://leanpub.com/beginningflutterwithdart)\n",
        "- [Better Flutter](https://leanpub.com/betterflutter)\n",
        "- [State in Flutter](https://leanpub.com/stateinflutter)\n",
        "- [A Complete Flutter Guide: From Beginners to Advanced](https://leanpub.com/b/acompleteflutterguidefrombeginnerstoadvanced)"
      ],
      "metadata": {
        "id": "X79tg45qY_XW"
      }
    }
  ]
}