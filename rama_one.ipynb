{
  "nbformat": 4,
  "nbformat_minor": 0,
  "metadata": {
    "colab": {
      "provenance": [],
      "authorship_tag": "ABX9TyOFHuiRKfV/P6woO6ypD3uQ",
      "include_colab_link": true
    },
    "kernelspec": {
      "name": "python3",
      "display_name": "Python 3"
    },
    "language_info": {
      "name": "python"
    }
  },
  "cells": [
    {
      "cell_type": "markdown",
      "metadata": {
        "id": "view-in-github",
        "colab_type": "text"
      },
      "source": [
        "<a href=\"https://colab.research.google.com/github/sanjibsinha/Machine-Learning-Primer/blob/inter/rama_one.ipynb\" target=\"_parent\"><img src=\"https://colab.research.google.com/assets/colab-badge.svg\" alt=\"Open In Colab\"/></a>"
      ]
    },
    {
      "cell_type": "code",
      "execution_count": null,
      "metadata": {
        "id": "7XE0T0fJ0N28"
      },
      "outputs": [],
      "source": []
    },
    {
      "cell_type": "markdown",
      "source": [
        "How strong was Lord Rama?\n",
        "\n",
        "Rama standing amidst an army of demons. Arrows are seen flying from his bow, hitting the demons and turning them into ashes.\n",
        "\n",
        "Rama, the prince of Ayodhya, stood ready to face an army of demons with the power to change their form at will.\n",
        "\n",
        "Rama drawing an arrow and firing it with incredible speed and accuracy.\n",
        "\n",
        "NWith his arrows looking like tongues of flames, Rama unleashed a barrage of attacks on the demons.\n",
        "\n",
        "Rama taking down ten thousand chariots with ease, each possessing the swiftness of the wind.\n",
        "\n",
        "In just three hours, Rama defeated an army of ten thousand chariots, eighteen thousand strong elephants, and fourteen thousand horses with their riders.\n",
        "\n",
        "Rama standing amidst the ashes of the defeated demons, his bow in hand and a determined look on his face.\n",
        "\n",
        "The prince of Ayodhya emerged victorious, cementing his place as a hero in Hindu mythology.\n",
        "\n",
        "Finally Rama walking away, his legend living on through the ages.\n",
        "\n",
        "For more please visit sanjib sinha dot com. The link is given below.\n",
        "\n",
        "The website - [https://sanjibsinha.com](https://sanjibsinha.com)\n",
        "Sanjib Sinha GitHub - [https://github.com/sanjibsinha](https://sanjibsinha.com)\n",
        "\n",
        "The website - [https://sanjibsinha.com](https://sanjibsinha.com) is a project, which is a starting point for a WordPress application. Any beginner may use the code repository to learn how one can develop a WordPress web application from scratch.\n",
        "\n",
        "- [Lab: Read the Latest Updated Articles on Flutter Tool Kit](https://sanjibsinha.com/category/flutter)\n",
        "\n",
        "## Do you want to build a mobile application?\n",
        "In that case, you may read these Books to build Flutter App from scratch.\n",
        "### In English\n",
        "- [Elementary Dart and Flutter for Beginners](https://leanpub.com/elementarydartandflutterforbeginners)\n",
        "\n",
        "## Get the necessary Guide\n",
        "\n",
        "- [Beginning Flutter with Dart](https://leanpub.com/beginningflutterwithdart)\n",
        "- [Better Flutter](https://leanpub.com/betterflutter)\n",
        "- [State in Flutter](https://leanpub.com/stateinflutter)\n",
        "- [A Complete Flutter Guide: From Beginners to Advanced](https://leanpub.com/b/acompleteflutterguidefrombeginnerstoadvanced)\n",
        "\n"
      ],
      "metadata": {
        "id": "z4FMnuZL0Qx-"
      }
    }
  ]
}