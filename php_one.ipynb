{
  "nbformat": 4,
  "nbformat_minor": 0,
  "metadata": {
    "colab": {
      "provenance": [],
      "authorship_tag": "ABX9TyMoKO9NJZ5S/y2V8wAkz/NP",
      "include_colab_link": true
    },
    "kernelspec": {
      "name": "python3",
      "display_name": "Python 3"
    },
    "language_info": {
      "name": "python"
    }
  },
  "cells": [
    {
      "cell_type": "markdown",
      "metadata": {
        "id": "view-in-github",
        "colab_type": "text"
      },
      "source": [
        "<a href=\"https://colab.research.google.com/github/sanjibsinha/Machine-Learning-Primer/blob/inter/php_one.ipynb\" target=\"_parent\"><img src=\"https://colab.research.google.com/assets/colab-badge.svg\" alt=\"Open In Colab\"/></a>"
      ]
    },
    {
      "cell_type": "code",
      "execution_count": null,
      "metadata": {
        "id": "2Z1mBlyFjc1h"
      },
      "outputs": [],
      "source": []
    },
    {
      "cell_type": "markdown",
      "source": [
        "\n",
        "\n",
        "Can I build a website with PHP?\n",
        "\n",
        "When we think about creating a website with PHP, we usually start with a blogging platform. \n",
        "\n",
        "Why? Because It’s the easiest one and suits the beginners.\n",
        "\n",
        "In the blogging platform, we can create a platform where users can give inputs to sign up first.\n",
        "\n",
        "After that they can create their own blogs, and publish their posts.\n",
        "\n",
        "At the same time, it will give us an idea about how input and output works in PHP which is an important concept.\n",
        "\n",
        "Basically, every programming language starts with inputs and outputs. \n",
        "\n",
        "First we need to associate ourselves with these basic ideas, like how we can use forms securely. \n",
        "\n",
        "Once we get associated with forms, we can even think of building an online store or e-commerce website.\n",
        "\n",
        "Why an e-commerce website? Firstly, it will teach us many important aspects of PHP like using sessions, cookies, and cache. \n",
        "\n",
        "In this store users can browse products, add items to their carts, and checkout in and out securely.\n",
        "\n",
        "The idea of basic inputs and outputs again comes to our help.\n",
        "\n",
        "We can almost apply the same rule while creating a social media platform.\n",
        "\n",
        "Because here users can sign up, create profiles, connect with friends, and share content.\n",
        "\n",
        "By this time, you probably have noticed that every PHP application we are talking about actually has some common patterns.\n",
        "\n",
        "Because everywhere we can implement the same technique to showcase the same skill.\n",
        "\n",
        "By the way, we need to remember, PHP is the most popular server side language.\n",
        "\n",
        "We use PHP to build many of the websites on the internet today.\n",
        "\n",
        "However, there are several steps we need to follow to dig deep. \n",
        "\n",
        "In the coming sections we will discuss them one by one.\n",
        "\n",
        "So stay tuned.\n",
        "\n",
        "For more please visit sanjib sinha dot com. \n",
        "\n",
        "The link is given in the description below.\n",
        "\n",
        "The website - [https://sanjibsinha.com](https://sanjibsinha.com) is a project, which is a starting point for a WordPress application. Any beginner may use the code repository to learn how one can develop a WordPress web application from scratch.\n",
        "\n",
        "- [Lab: Read the Latest Updated Articles on Flutter Tool Kit](https://sanjibsinha.com/category/flutter)\n",
        "\n",
        "## Have you not coded before?\n",
        "Well, we have a commonness. \n",
        "It's because at one point we all started as non-coders who had not coded before. \n",
        "As a result, I thought tThe website - [https://sinhasanjib.com](https://sinhasanjib.com) might be another project that deals with very beginning staff.\n",
        "You will get an initial ideas on how we use natural languages, the similar patterns in Grammar and many more. \n",
        "## Do you want to build a mobile application?\n",
        "In that case, you may read these Books to build Flutter App from scratch.\n",
        "### In English\n",
        "- [Elementary Dart and Flutter for Beginners](https://leanpub.com/elementarydartandflutterforbeginners)\n",
        "\n",
        "## Get the necessary Guide\n",
        "\n",
        "- [Beginning Flutter with Dart](https://leanpub.com/beginningflutterwithdart)\n",
        "- [Better Flutter](https://leanpub.com/betterflutter)\n",
        "- [State in Flutter](https://leanpub.com/stateinflutter)\n",
        "- [A Complete Flutter Guide: From Beginners to Advanced](https://leanpub.com/b/acompleteflutterguidefrombeginnerstoadvanced)"
      ],
      "metadata": {
        "id": "rpC2IlUzjd9q"
      }
    }
  ]
}