{
  "nbformat": 4,
  "nbformat_minor": 0,
  "metadata": {
    "colab": {
      "provenance": [],
      "authorship_tag": "ABX9TyMF+Tqub6T11nr0zla8jZs3",
      "include_colab_link": true
    },
    "kernelspec": {
      "name": "python3",
      "display_name": "Python 3"
    },
    "language_info": {
      "name": "python"
    }
  },
  "cells": [
    {
      "cell_type": "markdown",
      "metadata": {
        "id": "view-in-github",
        "colab_type": "text"
      },
      "source": [
        "<a href=\"https://colab.research.google.com/github/sanjibsinha/Machine-Learning-Primer/blob/inter/Untitled1.ipynb\" target=\"_parent\"><img src=\"https://colab.research.google.com/assets/colab-badge.svg\" alt=\"Open In Colab\"/></a>"
      ]
    },
    {
      "cell_type": "code",
      "execution_count": null,
      "metadata": {
        "id": "01lQm_E7KE_Z"
      },
      "outputs": [],
      "source": []
    },
    {
      "cell_type": "markdown",
      "source": [
        "\n",
        "How to use prepositions correctly in a sentence?\n",
        "\n",
        "There are general rules for using prepositions correctly in a sentence. But there are also many exceptions and idiomatic expressions. \n",
        "\n",
        "Additionally, the choice of preposition can often depend on the noun we use with it.\n",
        "\n",
        "Or the verb it is modifying, and the intended meaning or tone of the sentence.\n",
        "\n",
        "Moreover, the choice of preposition can often depend on the relationship between a noun and a verb.\n",
        "\n",
        "For example, take this example. The cat jumped on the table. \n",
        "\n",
        "Here The preposition \"on\" depends on the noun \"table.\"\n",
        "\n",
        "She looked at the book. \n",
        "\n",
        "The preposition \"at\" depends on the noun \"book.\"\n",
        "\n",
        "The vase broke into pieces. \n",
        "\n",
        "The preposition \"into\" depends on the verb \"broke.\"\n",
        "\n",
        "He is thinking about his future. \n",
        "\n",
        "The preposition \"about\" depends on the verb \"thinking.\"\n",
        "\n",
        "She is dancing to the music. \n",
        "\n",
        "The preposition \"to\" depends on the verb \"dancing.\"\n",
        "\n",
        "In each of these examples, the choice of preposition helps to convey the intended meaning and relationship between the noun and verb in the sentence.\n",
        "\n",
        "We will cover more on prepositions, so stay tuned.\n",
        "\n",
        "For more please visit sanjib sinha dot com. The link is given in the description below.\n",
        "\n",
        "The website - [https://sanjibsinha.com](https://sanjibsinha.com) is a project, which is a starting point for a WordPress application. Any beginner may use the code repository to learn how one can develop a WordPress web application from scratch.\n",
        "\n",
        "- [Lab: Read the Latest Updated Articles on Flutter Tool Kit](https://sanjibsinha.com/category/flutter)\n",
        "\n",
        "## Have you not coded before?\n",
        "Well, we have a commonness. \n",
        "It's because at one point we all started as non-coders who had not coded before. \n",
        "As a result, I thought tThe website - [https://sinhasanjib.com](https://sinhasanjib.com) might be another project that deals with very beginning staff.\n",
        "You will get an initial ideas on how we use natural languages, the similar patterns in Grammar and many more. \n",
        "## Do you want to build a mobile application?\n",
        "In that case, you may read these Books to build Flutter App from scratch.\n",
        "### In English\n",
        "- [Elementary Dart and Flutter for Beginners](https://leanpub.com/elementarydartandflutterforbeginners)\n",
        "\n",
        "## Get the necessary Guide\n",
        "\n",
        "- [Beginning Flutter with Dart](https://leanpub.com/beginningflutterwithdart)\n",
        "- [Better Flutter](https://leanpub.com/betterflutter)\n",
        "- [State in Flutter](https://leanpub.com/stateinflutter)\n",
        "- [A Complete Flutter Guide: From Beginners to Advanced](https://leanpub.com/b/acompleteflutterguidefrombeginnerstoadvanced)\n",
        "\n",
        "\n",
        "\n",
        "\n"
      ],
      "metadata": {
        "id": "K0WO1ScsKFrx"
      }
    }
  ]
}