{
  "nbformat": 4,
  "nbformat_minor": 0,
  "metadata": {
    "colab": {
      "provenance": [],
      "authorship_tag": "ABX9TyP0LXRc9ULDsXEPHstu45jq",
      "include_colab_link": true
    },
    "kernelspec": {
      "name": "python3",
      "display_name": "Python 3"
    },
    "language_info": {
      "name": "python"
    }
  },
  "cells": [
    {
      "cell_type": "markdown",
      "metadata": {
        "id": "view-in-github",
        "colab_type": "text"
      },
      "source": [
        "<a href=\"https://colab.research.google.com/github/sanjibsinha/Machine-Learning-Primer/blob/main/first.ipynb\" target=\"_parent\"><img src=\"https://colab.research.google.com/assets/colab-badge.svg\" alt=\"Open In Colab\"/></a>"
      ]
    },
    {
      "cell_type": "code",
      "execution_count": 1,
      "metadata": {
        "colab": {
          "base_uri": "https://localhost:8080/"
        },
        "id": "LC_szK2MAtZK",
        "outputId": "b389319f-d74c-48cb-97b1-eaa1a799c3d6"
      },
      "outputs": [
        {
          "output_type": "stream",
          "name": "stdout",
          "text": [
            "Be careful, you can fall off!\n"
          ]
        }
      ],
      "source": [
        "the_world_is_flat = True\n",
        "if the_world_is_flat:\n",
        "  print(\"Be careful, you can fall off!\")"
      ]
    },
    {
      "cell_type": "code",
      "source": [
        "import tensorflow as tf\n",
        "print(\"Tensorflow Version: \", tf.__version__)"
      ],
      "metadata": {
        "colab": {
          "base_uri": "https://localhost:8080/"
        },
        "id": "v5LLqOKBBv32",
        "outputId": "cddd0a0b-2991-4119-ef35-e51fcf8b06b1"
      },
      "execution_count": 2,
      "outputs": [
        {
          "output_type": "stream",
          "name": "stdout",
          "text": [
            "Tensorflow Version:  2.13.0\n"
          ]
        }
      ]
    },
    {
      "cell_type": "code",
      "source": [
        "import tensorflow as tf\n",
        "g = tf.Graph()\n",
        "\n",
        "with g.as_default():\n",
        "  a = tf.constant([1.0], name = \"a\")\n",
        "  b = tf.constant([2.0], name = \"b\")\n",
        "  c = tf.add(a, b, name = \"c\")\n",
        "\n",
        "  print(c)\n",
        "\n",
        "  with tf.compat.v1.Session(graph=g) as sess:\n",
        "    result = sess.run(c)\n",
        "\n",
        "  print(result)"
      ],
      "metadata": {
        "colab": {
          "base_uri": "https://localhost:8080/"
        },
        "id": "NGXtSU44CHSP",
        "outputId": "611565a8-2d47-4419-a46c-25a952c09137"
      },
      "execution_count": 3,
      "outputs": [
        {
          "output_type": "stream",
          "name": "stdout",
          "text": [
            "Tensor(\"c:0\", shape=(1,), dtype=float32)\n",
            "[3.]\n"
          ]
        }
      ]
    }
  ]
}