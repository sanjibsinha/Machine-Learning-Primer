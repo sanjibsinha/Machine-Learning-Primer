{
  "nbformat": 4,
  "nbformat_minor": 0,
  "metadata": {
    "colab": {
      "provenance": [],
      "authorship_tag": "ABX9TyMszaTgokoZCPQ2iGUWbOeh",
      "include_colab_link": true
    },
    "kernelspec": {
      "name": "python3",
      "display_name": "Python 3"
    },
    "language_info": {
      "name": "python"
    }
  },
  "cells": [
    {
      "cell_type": "markdown",
      "metadata": {
        "id": "view-in-github",
        "colab_type": "text"
      },
      "source": [
        "<a href=\"https://colab.research.google.com/github/sanjibsinha/Machine-Learning-Primer/blob/inter/Freud_Vs_Marx.ipynb\" target=\"_parent\"><img src=\"https://colab.research.google.com/assets/colab-badge.svg\" alt=\"Open In Colab\"/></a>"
      ]
    },
    {
      "cell_type": "code",
      "execution_count": null,
      "metadata": {
        "id": "3iluejcemyYa"
      },
      "outputs": [],
      "source": []
    },
    {
      "cell_type": "markdown",
      "source": [
        "Freud Vs Marx\n",
        "\n",
        "Sigmund Freud and Karl Marx were two major personalities who shaped the last century. Not only that, their legacy still looms large.\n",
        "\n",
        "Let us quickly see what Sigmund Freud's three major theories are.\n",
        "\n",
        "Firstly, Psychoanalytic theory.\n",
        "\n",
        "In his theory Freud suggests that unconscious thoughts, feelings, and experiences shape human behavior and emotions.\n",
        "\n",
        "Secondly, The Oedipus complex.\n",
        "\n",
        "This theory posits that children have unconscious sexual desires towards their parents and feelings of jealousy and rivalry with same-sex parents.\n",
        "\n",
        "Finally, The structure of the psyche.\n",
        "\n",
        "According to this theory, the human psyche is divided into three parts.\n",
        "\n",
        "The id or unconscious instinctual desires.\n",
        "\n",
        "Next comes the ego or conscious, rational self.\n",
        "\n",
        "Finally the superego or a person's sense of morality and societal norms.\n",
        "\n",
        "On the other hand, Karl Marx had proposed many theories based on his extensive research.\n",
        "\n",
        "As an outcome we can summarize Karl Marx's main theories as follows.\n",
        "\n",
        "Firstly, Historical Materialism.\n",
        "\n",
        "This theory states that economic and social conditions play a primary role in shaping society and determining the course of history.\n",
        "\n",
        "Karl Marx was also popular for his Labor Theory of Value.\n",
        "\n",
        "According to this theory, the amount of labor that has gone into producing it determines the value of a product.\n",
        "\n",
        "Secondly his famous Class Struggle theory.\n",
        "\n",
        "Marx believed that society is divided into classes based on their relationship to the means of production.\n",
        "\n",
        "The means of production starts with the ruling class  or the bourgeoisie who own the means of production. \n",
        "\n",
        "And on the contrary, the working class or the proletariat sell their labor. \n",
        "\n",
        "Marx argued that this relationship results in a constant struggle between the two classes.\n",
        "\n",
        "Finally, Communism was Marx's ultimate goal.\n",
        "\n",
        "It was to create a classless society, where the ruling class no longer owned the means of production. \n",
        "\n",
        "On the contrary, the proletariat owned and controlled the means of production.\n",
        "\n",
        "As a whole, each individual will get the resources on the needs of each individual. \n",
        "\n",
        "Although it sounds good, in reality it appears to be an impossible task.\n",
        "\n",
        "For more please visit sanjib sinha dot com. The link is given in the description below.\n",
        "\n",
        "The website - [https://sanjibsinha.com](https://sanjibsinha.com)\n",
        "Sanjib Sinha GitHub - [https://github.com/sanjibsinha](https://sanjibsinha.com)\n",
        "\n",
        "The website - [https://sanjibsinha.com](https://sanjibsinha.com) is a project, which is a starting point for a WordPress application. Any beginner may use the code repository to learn how one can develop a WordPress web application from scratch.\n",
        "\n",
        "- [Lab: Read the Latest Updated Articles on Flutter Tool Kit](https://sanjibsinha.com/category/flutter)\n",
        "\n",
        "## Do you want to build a mobile application?\n",
        "In that case, you may read these Books to build Flutter App from scratch.\n",
        "### In English\n",
        "- [Elementary Dart and Flutter for Beginners](https://leanpub.com/elementarydartandflutterforbeginners)\n",
        "\n",
        "## Get the necessary Guide\n",
        "\n",
        "- [Beginning Flutter with Dart](https://leanpub.com/beginningflutterwithdart)\n",
        "- [Better Flutter](https://leanpub.com/betterflutter)\n",
        "- [State in Flutter](https://leanpub.com/stateinflutter)\n",
        "- [A Complete Flutter Guide: From Beginners to Advanced](https://leanpub.com/b/acompleteflutterguidefrombeginnerstoadvanced)\n",
        "\n",
        "\n"
      ],
      "metadata": {
        "id": "S_oWhCFgm1JO"
      }
    }
  ]
}